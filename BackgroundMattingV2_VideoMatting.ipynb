{
  "nbformat": 4,
  "nbformat_minor": 0,
  "metadata": {
    "colab": {
      "provenance": [],
      "toc_visible": true,
      "include_colab_link": true
    },
    "kernelspec": {
      "name": "python3",
      "display_name": "Python 3"
    },
    "accelerator": "GPU"
  },
  "cells": [
    {
      "cell_type": "markdown",
      "metadata": {
        "id": "view-in-github",
        "colab_type": "text"
      },
      "source": [
        "<a href=\"https://colab.research.google.com/github/tianyinhuang/VideoMattingGreen/blob/main/BackgroundMattingV2_VideoMatting.ipynb\" target=\"_parent\"><img src=\"https://colab.research.google.com/assets/colab-badge.svg\" alt=\"Open In Colab\"/></a>"
      ]
    },
    {
      "cell_type": "markdown",
      "metadata": {
        "id": "uKrprCrtGUYr"
      },
      "source": [
        "# BackgroundMattingV2 Video Matting Example\n",
        "\n",
        "This notebook demonstrates how to use our model for video matting. For more information about our project, please visit [our github repo](https://github.com/PeterL1n/BackgroundMattingV2)."
      ]
    },
    {
      "cell_type": "markdown",
      "metadata": {
        "id": "I5cZEZcvBXNP"
      },
      "source": [
        "## Prepare videos\n",
        "\n",
        "You can upload your own video as `src.mp4` and `bgr.png` using the left panel.\n",
        "\n",
        "Or download our example video using the commands below. More example videos are available at [Google Drive](https://drive.google.com/drive/folders/16H6Vz3294J-DEzauw06j4IUARRqYGgRD?usp=sharing) and [Google Drive](https://drive.google.com/drive/folders/1j3BMrRFhFpfzJAe6P2WDtfanoeSCLPiq)."
      ]
    },
    {
      "cell_type": "code",
      "metadata": {
        "id": "WoaMYSpRBRL6"
      },
      "source": [
        "!pip install gdown -q"
      ],
      "execution_count": null,
      "outputs": []
    },
    {
      "cell_type": "code",
      "metadata": {
        "id": "wmUi0Pl3B_at"
      },
      "source": [
        "!gdown https://drive.google.com/uc?id=1tCEk8FE3WGrr49cdL8qMCqHptMCAtHRU -O /content/src.mp4 -q\n",
        "!gdown https://drive.google.com/uc?id=1wAR3JjnTO60B_DUr7ruIJj0Z2pcIGkyP -O /content/bgr.png -q"
      ],
      "execution_count": null,
      "outputs": []
    },
    {
      "cell_type": "markdown",
      "metadata": {
        "id": "X6Wnql6VC9sr"
      },
      "source": [
        "## Matting"
      ]
    },
    {
      "cell_type": "markdown",
      "metadata": {
        "id": "LFMf2xRyN2N-"
      },
      "source": [
        "Download model file. Below we download `pytorch_resnet50.pth`. All of our model files are available at [Google Drive](https://drive.google.com/drive/folders/1cbetlrKREitIgjnIikG1HdM4x72FtgBh?usp=sharing)."
      ]
    },
    {
      "cell_type": "code",
      "metadata": {
        "id": "FZcSXSoiNNOu"
      },
      "source": [
        "!gdown https://drive.google.com/uc?id=1ErIAsB_miVhYL9GDlYUmfbqlV293mSYf -O model.pth -q"
      ],
      "execution_count": null,
      "outputs": []
    },
    {
      "cell_type": "code",
      "metadata": {
        "colab": {
          "base_uri": "https://localhost:8080/"
        },
        "id": "8NUspY9nMZXF",
        "outputId": "008b30fa-cefd-4833-dcf1-febd1bf35ded"
      },
      "source": [
        "!git clone -q https://github.com/PeterL1n/BackgroundMattingV2\n",
        "%cd BackgroundMattingV2"
      ],
      "execution_count": null,
      "outputs": [
        {
          "output_type": "stream",
          "text": [
            "/content/BackgroundMattingV2\n"
          ],
          "name": "stdout"
        }
      ]
    },
    {
      "cell_type": "markdown",
      "metadata": {
        "id": "rDn33_xrOJew"
      },
      "source": [
        "Use the `inference_video.py` script for converting videos.\n",
        "\n",
        "More advanced cases:\n",
        "\n",
        "*   If you want to export as image sequences instead of videos, add `--output-format image_sequences` flag.\n",
        "*   If your video is handheld, add `--preprocess-alignment` flag.\n",
        "*   Below script will output `com` composition, `pha` alpha, `fgr` foreground, `err` error prediction map, and `ref` refinement selection map. If you just want the final results, feel free to remove those outputs for faster conversion speed.\n",
        "\n",
        "*Note: The conversion script in python only uses CPU encoding/decoding and incurs additional cost for CPU-GPU data transfering. Therefore it is not real-time.*\n"
      ]
    },
    {
      "cell_type": "code",
      "metadata": {
        "id": "2UrkyB5jMbOk"
      },
      "source": [
        "!python inference_video.py \\\n",
        "        --model-type mattingrefine \\\n",
        "        --model-backbone resnet50 \\\n",
        "        --model-backbone-scale 0.25 \\\n",
        "        --model-refine-mode sampling \\\n",
        "        --model-refine-sample-pixels 80000 \\\n",
        "        --model-checkpoint \"/content/model.pth\" \\\n",
        "        --video-src \"/content/src.mp4\" \\\n",
        "        --video-bgr \"/content/bgr.png\" \\\n",
        "        --output-dir \"/content/output/\" \\\n",
        "        --output-type com fgr pha err ref"
      ],
      "execution_count": null,
      "outputs": []
    }
  ]
}